{
 "cells": [
  {
   "cell_type": "code",
   "execution_count": 83,
   "id": "66dcd3e2",
   "metadata": {},
   "outputs": [
    {
     "name": "stdout",
     "output_type": "stream",
     "text": [
      "['NOME', 'CURSO', 'DIRETORIA', 'UNIDADE REGIONAL', 'CARGO DE CONFIANÇA', 'TÍTULO', 'INSTITUIÇÃO DE ENSINO', 'ANO DE OBTENÇÃO DO TÍTULO', 'DEMANDA', 'MEMO OU ATA DE AUTORIZAÇÃO PARA CURSO', 'DATA DA REUNIÃO DE D.E.', 'INÍCIO DO PERÍODO APROVADO', 'FIM DO PERÍODO APROVADO', 'INÍCIO DA PRORROGAÇÃO APROVADA', 'FIM DA PRORROGAÇÃO APROVADA', 'PERÍODO SOLICITADO             ', 'STATUS']\n"
     ]
    },
    {
     "data": {
      "text/html": [
       "<div>\n",
       "<style scoped>\n",
       "    .dataframe tbody tr th:only-of-type {\n",
       "        vertical-align: middle;\n",
       "    }\n",
       "\n",
       "    .dataframe tbody tr th {\n",
       "        vertical-align: top;\n",
       "    }\n",
       "\n",
       "    .dataframe thead th {\n",
       "        text-align: right;\n",
       "    }\n",
       "</style>\n",
       "<table border=\"1\" class=\"dataframe\">\n",
       "  <thead>\n",
       "    <tr style=\"text-align: right;\">\n",
       "      <th></th>\n",
       "      <th>NOME</th>\n",
       "      <th>CURSO</th>\n",
       "      <th>DIRETORIA</th>\n",
       "      <th>UNIDADE REGIONAL</th>\n",
       "      <th>CARGO DE CONFIANÇA</th>\n",
       "      <th>TÍTULO</th>\n",
       "      <th>INSTITUIÇÃO DE ENSINO</th>\n",
       "      <th>ANO DE OBTENÇÃO DO TÍTULO</th>\n",
       "      <th>DEMANDA</th>\n",
       "      <th>MEMO OU ATA DE AUTORIZAÇÃO PARA CURSO</th>\n",
       "      <th>DATA DA REUNIÃO DE D.E.</th>\n",
       "      <th>INÍCIO DO PERÍODO APROVADO</th>\n",
       "      <th>FIM DO PERÍODO APROVADO</th>\n",
       "      <th>INÍCIO DA PRORROGAÇÃO APROVADA</th>\n",
       "      <th>FIM DA PRORROGAÇÃO APROVADA</th>\n",
       "      <th>PERÍODO SOLICITADO</th>\n",
       "      <th>STATUS</th>\n",
       "    </tr>\n",
       "  </thead>\n",
       "  <tbody>\n",
       "    <tr>\n",
       "      <th>161</th>\n",
       "      <td>162</td>\n",
       "      <td>DOUTORADO</td>\n",
       "      <td>DGM</td>\n",
       "      <td>SUREG-SP</td>\n",
       "      <td>NaN</td>\n",
       "      <td>Mineralogia e Petrologia de diques e intrusões...</td>\n",
       "      <td>USP</td>\n",
       "      <td>2016.0</td>\n",
       "      <td>Espontânea</td>\n",
       "      <td>136/SEGER/2012</td>\n",
       "      <td>2012-07-04 00:00:00</td>\n",
       "      <td>2011-11-01 00:00:00</td>\n",
       "      <td>2016-05-01 00:00:00</td>\n",
       "      <td>NaN</td>\n",
       "      <td>NaN</td>\n",
       "      <td>NaN</td>\n",
       "      <td>ATIVO</td>\n",
       "    </tr>\n",
       "    <tr>\n",
       "      <th>162</th>\n",
       "      <td>163</td>\n",
       "      <td>DOUTORADO</td>\n",
       "      <td>DGM</td>\n",
       "      <td>SUREG-SP</td>\n",
       "      <td>NaN</td>\n",
       "      <td>Fosfatos primários e secundários nos perfis de...</td>\n",
       "      <td>USP</td>\n",
       "      <td>2000.0</td>\n",
       "      <td>NaN</td>\n",
       "      <td>NaN</td>\n",
       "      <td>NaN</td>\n",
       "      <td>NaN</td>\n",
       "      <td>NaN</td>\n",
       "      <td>NaN</td>\n",
       "      <td>NaN</td>\n",
       "      <td>NaN</td>\n",
       "      <td>ATIVO</td>\n",
       "    </tr>\n",
       "    <tr>\n",
       "      <th>163</th>\n",
       "      <td>164</td>\n",
       "      <td>DOUTORADO</td>\n",
       "      <td>DGM</td>\n",
       "      <td>SUREG-RE</td>\n",
       "      <td>NaN</td>\n",
       "      <td>Evolução geodinâmica e condicionamento estrutu...</td>\n",
       "      <td>UFRN</td>\n",
       "      <td>2004.0</td>\n",
       "      <td>NaN</td>\n",
       "      <td>NaN</td>\n",
       "      <td>NaN</td>\n",
       "      <td>NaN</td>\n",
       "      <td>NaN</td>\n",
       "      <td>NaN</td>\n",
       "      <td>NaN</td>\n",
       "      <td>NaN</td>\n",
       "      <td>ATIVO</td>\n",
       "    </tr>\n",
       "    <tr>\n",
       "      <th>164</th>\n",
       "      <td>165</td>\n",
       "      <td>DOUTORADO</td>\n",
       "      <td>DGM</td>\n",
       "      <td>REFO</td>\n",
       "      <td>NaN</td>\n",
       "      <td>Geoquímica dos carbonatos da plataforma contin...</td>\n",
       "      <td>UFPE</td>\n",
       "      <td>2008.0</td>\n",
       "      <td>NaN</td>\n",
       "      <td>NaN</td>\n",
       "      <td>NaN</td>\n",
       "      <td>NaN</td>\n",
       "      <td>NaN</td>\n",
       "      <td>NaN</td>\n",
       "      <td>NaN</td>\n",
       "      <td>NaN</td>\n",
       "      <td>ATIVO</td>\n",
       "    </tr>\n",
       "    <tr>\n",
       "      <th>165</th>\n",
       "      <td>166</td>\n",
       "      <td>DOUTORADO</td>\n",
       "      <td>DGM</td>\n",
       "      <td>SUREG-PA</td>\n",
       "      <td>NaN</td>\n",
       "      <td>Magmatismo Alcalino Básico Ácido no Cambriano ...</td>\n",
       "      <td>UFRGS</td>\n",
       "      <td>1999.0</td>\n",
       "      <td>NaN</td>\n",
       "      <td>NaN</td>\n",
       "      <td>NaN</td>\n",
       "      <td>NaN</td>\n",
       "      <td>NaN</td>\n",
       "      <td>NaN</td>\n",
       "      <td>NaN</td>\n",
       "      <td>NaN</td>\n",
       "      <td>ATIVO</td>\n",
       "    </tr>\n",
       "  </tbody>\n",
       "</table>\n",
       "</div>"
      ],
      "text/plain": [
       "     NOME      CURSO DIRETORIA UNIDADE REGIONAL CARGO DE CONFIANÇA  \\\n",
       "161   162  DOUTORADO       DGM         SUREG-SP                NaN   \n",
       "162   163  DOUTORADO       DGM         SUREG-SP                NaN   \n",
       "163   164  DOUTORADO       DGM         SUREG-RE                NaN   \n",
       "164   165  DOUTORADO       DGM             REFO                NaN   \n",
       "165   166  DOUTORADO       DGM         SUREG-PA                NaN   \n",
       "\n",
       "                                                TÍTULO INSTITUIÇÃO DE ENSINO  \\\n",
       "161  Mineralogia e Petrologia de diques e intrusões...                   USP   \n",
       "162  Fosfatos primários e secundários nos perfis de...                   USP   \n",
       "163  Evolução geodinâmica e condicionamento estrutu...                  UFRN   \n",
       "164  Geoquímica dos carbonatos da plataforma contin...                  UFPE   \n",
       "165  Magmatismo Alcalino Básico Ácido no Cambriano ...                 UFRGS   \n",
       "\n",
       "     ANO DE OBTENÇÃO DO TÍTULO     DEMANDA  \\\n",
       "161                     2016.0  Espontânea   \n",
       "162                     2000.0         NaN   \n",
       "163                     2004.0         NaN   \n",
       "164                     2008.0         NaN   \n",
       "165                     1999.0         NaN   \n",
       "\n",
       "    MEMO OU ATA DE AUTORIZAÇÃO PARA CURSO DATA DA REUNIÃO DE D.E.  \\\n",
       "161                        136/SEGER/2012     2012-07-04 00:00:00   \n",
       "162                                   NaN                     NaN   \n",
       "163                                   NaN                     NaN   \n",
       "164                                   NaN                     NaN   \n",
       "165                                   NaN                     NaN   \n",
       "\n",
       "    INÍCIO DO PERÍODO APROVADO FIM DO PERÍODO APROVADO  \\\n",
       "161        2011-11-01 00:00:00     2016-05-01 00:00:00   \n",
       "162                        NaN                     NaN   \n",
       "163                        NaN                     NaN   \n",
       "164                        NaN                     NaN   \n",
       "165                        NaN                     NaN   \n",
       "\n",
       "    INÍCIO DA PRORROGAÇÃO APROVADA FIM DA PRORROGAÇÃO APROVADA  \\\n",
       "161                            NaN                         NaN   \n",
       "162                            NaN                         NaN   \n",
       "163                            NaN                         NaN   \n",
       "164                            NaN                         NaN   \n",
       "165                            NaN                         NaN   \n",
       "\n",
       "    PERÍODO SOLICITADO              STATUS  \n",
       "161                             NaN  ATIVO  \n",
       "162                             NaN  ATIVO  \n",
       "163                             NaN  ATIVO  \n",
       "164                             NaN  ATIVO  \n",
       "165                             NaN  ATIVO  "
      ]
     },
     "execution_count": 83,
     "metadata": {},
     "output_type": "execute_result"
    }
   ],
   "source": [
    "import pandas as pd\n",
    "import matplotlib.pyplot as plt\n",
    "import numpy as np\n",
    "\n",
    "mestrados = pd.read_excel(\"dados.xlsx\", sheet_name='MESTRADOS ATIVOS', skiprows = 0)\n",
    "mestrados['STATUS'] = 'ATIVO'\n",
    "doutorados = pd.read_excel(\"dados.xlsx\", sheet_name='DOUTORADOS ATIVOS', skiprows = 0)\n",
    "doutorados['STATUS'] = 'ATIVO'\n",
    "mestrados_e = pd.read_excel(\"dados.xlsx\", sheet_name='MESTRADOS ENCERRADOS', skiprows = 0)\n",
    "mestrados_e['STATUS'] = 'ENCERRADO'\n",
    "doutorados_e = pd.read_excel(\"dados.xlsx\", sheet_name='DOUTORADOS ENCERRADOS', skiprows = 0)\n",
    "doutorados_e['STATUS'] = 'ENCERRADO'\n",
    "\n",
    "cursos = pd.concat([mestrados, doutorados, mestrados_e, doutorados_e])\n",
    "col = cursos.columns\n",
    "col = list(col[0:16])+['STATUS']\n",
    "cursos = cursos.loc[:,col]\n",
    "print(col)\n",
    "cursos.tail()"
   ]
  },
  {
   "cell_type": "code",
   "execution_count": 19,
   "id": "b3451bfa",
   "metadata": {
    "scrolled": true
   },
   "outputs": [
    {
     "name": "stdout",
     "output_type": "stream",
     "text": [
      "MESTRADO     474\n",
      "DOUTORADO    217\n",
      "Mestrado       2\n",
      "MESTRADO*      1\n",
      "Name: CURSO, dtype: int64\n"
     ]
    }
   ],
   "source": [
    "d = cursos['CURSO'].value_counts()\n",
    "print(d)"
   ]
  },
  {
   "cell_type": "code",
   "execution_count": 50,
   "id": "25d70a49",
   "metadata": {},
   "outputs": [
    {
     "data": {
      "text/plain": [
       "['NOME',\n",
       " 'CURSO',\n",
       " 'DIRETORIA',\n",
       " 'UNIDADE REGIONAL',\n",
       " 'CARGO DE CONFIANÇA',\n",
       " 'TÍTULO',\n",
       " 'INTITUIÇÃO DE ENSINO',\n",
       " 'ANO DE OBTENÇÃO DO TÍTULO',\n",
       " 'DEMANDA',\n",
       " 'MEMO OU ATA DE AUTORIZAÇÃO PARA CURSO',\n",
       " 'DATA DA REUNIÃO DE D.E.',\n",
       " 'INÍCIO DO PERÍODO APROVADO',\n",
       " 'FIM DO PERÍODO APROVADO',\n",
       " 'INÍCIO DA PRORROGAÇÃO APROVADA',\n",
       " 'FIM DA PRORROGAÇÃO APROVADA',\n",
       " 'PERÍODO SOLICITADO             ']"
      ]
     },
     "execution_count": 50,
     "metadata": {},
     "output_type": "execute_result"
    }
   ],
   "source": [
    "list(cursos.columns)"
   ]
  },
  {
   "cell_type": "code",
   "execution_count": 80,
   "id": "cb16434a",
   "metadata": {},
   "outputs": [
    {
     "name": "stdout",
     "output_type": "stream",
     "text": [
      "['CURSO', 'DIRETORIA', 'UNIDADE REGIONAL', 'CARGO DE CONFIANÇA', 'TÍTULO', 'INTITUIÇÃO DE ENSINO', 'DEMANDA']\n"
     ]
    }
   ],
   "source": [
    "col = cursos.columns\n",
    "col = list(col[1:7])+list(col[8:9])\n",
    "print(col)"
   ]
  },
  {
   "cell_type": "code",
   "execution_count": 95,
   "id": "abc5e50d",
   "metadata": {},
   "outputs": [
    {
     "name": "stdout",
     "output_type": "stream",
     "text": [
      "['O Uso De Veículos Aéreos Não Tripulados Para Geração De Dados Geocartográficos Da Geologia De Engenharia/Geotécnica E Hidrologia.'\n",
      " 'Geologia, geocronologia e metalogênese do ouro da Sequência Vulcanossedimentar da porção NW do Cinturão Gurupi (PA)'\n",
      " 'Geologia estrutural e geotermobarometria do Grupo Cauarane'\n",
      " 'Geologia, petrografia e geoquímica dos granitóides de Canaã dos Carajás, SE do Estado do Pará'\n",
      " 'Análise da geologia, geomorfologia e solos no processo de erosão por voçorocas: bacia do Taboão, RS'\n",
      " 'Geologia estrutural de detalhe para elaboração de modelo conceitual de circulação de água subterranea: estudo de caso em Jurubatuba, SP'\n",
      " 'Geologia, Sistemas Deposicionais e Estratigrafia Isotópica do Grupo Bambuí na região de Santa Maria da Vittória, BA'\n",
      " 'Petrologia, geologia estrutural e aerogeofísica da porção leste do domínio Bacajá, província Maroni-Itacaiúnas'\n",
      " 'Geologia, Petrografia e litogeoquímica dos diques máficos que ocorrem na porção sudoeste da Chapada Diamantina, Bahia, Brasil'\n",
      " 'Geologia e aspectos metalogenéticos dos elementos do grupo da platina no complexo máfico-ultramáfico da Serra do Onça, Sul do Pará.'\n",
      " 'Geologia das suítes Travessia, Bonfim e Novo Planalto: granitoides de três estágios evolutivos do arco magmático de Mara Rosa'\n",
      " 'Contribuição à hidrogeologia da porção oeste do Circuito das Águas, sul de Minas Gerais'\n",
      " 'Contribuição à geologia, petrografia e geoquímica dos diques máficos da porção centro leste de Rondônia, sudoeste do cráton Amazônico'\n",
      " 'Geologia estrutural, geoquímica, petrografia e geocronologia de granitóides da região do Igarapé Gelado, norte da Província Mineral de Carajás'\n",
      " 'Contribuições dos métodos geofísicos (magnetometria, gravimetria e\\neletrorresistividade) à geologia da Região Metropolitana de Fortaleza'\n",
      " 'Geologia do granito Silva Jardim, RJ: implicações na evolução tectônica dos terrenos Oriental e Cabo Frio'\n",
      " 'Geologia e geocronologia Pb-Pb em Zircão e Sm-Nd em rocha total de granitóides da região de Santana do Araguaia'\n",
      " 'Geologia, petrografia e geoquímica da suíte ofiolítica Araguacema, cinturão Araguaia'\n",
      " 'Cinturão de Cisalhamento de Empurrão Córrego Geral-Meia Pataca: Geologia, Deformação, Alteração Hidrotermal e Mineralizações Auríferas Associadas Crixás-Goiás'\n",
      " 'Geologia, Petrografia e Geoquímica do Complexo Granítico de Mangaratiba Conceição de Jacareí, RJ'\n",
      " 'Geologia e petrografia do corpo metagabróico pré cambriano de São Sebastião da Vitória, Minas Gerais'\n",
      " 'Geologia e urbanização: estudo de caso na periferia da zona sul do município de São Paulo'\n",
      " 'Geologia, Sedimentologia e Quimioestratigrafia da Sequência Hospedeira de Minerallzações de Zinco e Chumbo na Região de Morro Agudo - Paracatu/MG.'\n",
      " 'Geologia da sinclinal de Ituaçu, escala 1:100.000'\n",
      " 'Geologia do depósito de ouro da Mina de Raposos, Quadrilátero Ferrífero, com ênfase na alteração hidrotermal'\n",
      " 'Geologia, petrologia e geoquímica da associação tonalito-trondhjemito-granodiorito (TTG) do extremo leste do subdomínio de transição, província Carajás'\n",
      " 'Geologia estrutural das serras Curamalal e Bravard, porção oeste do cinturão móvel paleozóico Sierra de la Ventana, Argentina.'\n",
      " 'Petrologia e geologia estrutural do plutão granítico Barcelona, província Borborema, NE do Brasil'\n",
      " 'Geologia e geoquímica do complexo granitóide de Massangana e sua relação com as mineralizações de estanho'\n",
      " 'Geologia, geoquímica e geocronologia do domínio vulcânico do arco magmático Juruena, SW do cráton Amazônico: implicações geotectônicas'\n",
      " 'Geologia e geoquímica de rochas metamáficas e meta-ultramáficas da região de Alvarenga, MG, e suas implicações geotectônicas'\n",
      " 'Geologia, estratigrafia e petrologia da porção sul do Complexo Máfico-ultramáfico de Canabrava, Goiás'\n",
      " 'Geologia, geoquímica e significado tectônico do Complexo Metanortosítico de Passira: província Borborema, nordeste brasileiro'\n",
      " 'Geologia do Complexo Camboriú - Santa Catarina.'\n",
      " 'Gênese e significado tectônico do metacarbonatito Três Estradas na geologia do Escudo Sul-Riograndense, RS, e sua implicação na definição de controles prospectivos de intrusões tectonicamente similares'\n",
      " 'Hidrogeologia do Sistema Aquífero Parecis na Bacia Sedimentar dos Parecis/Rondônia'\n",
      " 'Geologia e petrologia de xenólitos mantélicos da Província Ígnea do Alto Paranaíba, MG'\n",
      " 'Geologia dos metatonalitos / metatrondhjemitos e granulitos básicos associados das regiões de Camamu-Ubaitaba-Itabuna, Bahia'\n",
      " 'Geologia e evolução do terreno Jamari, embasamento da faixa Sunsas, Aguapeí, centro-leste de Rondônia, sudoeste do craton Amazônico'\n",
      " 'Geologia e petrogênese de corpos máfico-ultramáficos da faixa Brasília sul, borda sul do cráton São Francisco, MG'\n",
      " 'Geologia urbana da região metropolitana de São Paulo']\n"
     ]
    }
   ],
   "source": [
    "assunto = 'geologia'\n",
    "titulos = list(cursos['TÍTULO'])\n",
    "if len(assunto)>3:\n",
    "    assunto = assunto.split()\n",
    "    ind = []\n",
    "    for a in assunto:\n",
    "        for i, t in enumerate(titulos):\n",
    "            if a.lower() in str(t).lower():\n",
    "                ind += [i]\n",
    "\n",
    "    titulos = np.array(titulos)\n",
    "    titulos = titulos[ind]\n",
    "    \n",
    "    cursos = cursos.iloc[ind,:]\n",
    "           "
   ]
  },
  {
   "cell_type": "code",
   "execution_count": 104,
   "id": "3941c7ca",
   "metadata": {},
   "outputs": [
    {
     "data": {
      "text/plain": [
       "MESTRADO     474\n",
       "DOUTORADO    217\n",
       "Mestrado       2\n",
       "MESTRADO*      1\n",
       "Name: CURSO, dtype: int64"
      ]
     },
     "execution_count": 104,
     "metadata": {},
     "output_type": "execute_result"
    }
   ],
   "source": [
    "cursos['CURSO'].value_counts()"
   ]
  },
  {
   "cell_type": "code",
   "execution_count": 105,
   "id": "f7ad1982",
   "metadata": {},
   "outputs": [],
   "source": [
    "filtros = col"
   ]
  },
  {
   "cell_type": "code",
   "execution_count": 110,
   "id": "80937853",
   "metadata": {},
   "outputs": [],
   "source": [
    "opt = cursos[col[3]].unique()[5]"
   ]
  },
  {
   "cell_type": "code",
   "execution_count": 117,
   "id": "708edc09",
   "metadata": {},
   "outputs": [],
   "source": [
    "indopt = cursos.loc[:,col[3]]==opt\n",
    "cursos_r = cursos.loc[indopt]"
   ]
  },
  {
   "cell_type": "code",
   "execution_count": 119,
   "id": "6855d656",
   "metadata": {},
   "outputs": [
    {
     "data": {
      "text/plain": [
       "(694, 17)"
      ]
     },
     "execution_count": 119,
     "metadata": {},
     "output_type": "execute_result"
    }
   ],
   "source": [
    "cursos.shape"
   ]
  },
  {
   "cell_type": "code",
   "execution_count": 120,
   "id": "67f4e97f",
   "metadata": {},
   "outputs": [
    {
     "data": {
      "text/plain": [
       "[False, False, False, False, False]"
      ]
     },
     "execution_count": 120,
     "metadata": {},
     "output_type": "execute_result"
    }
   ],
   "source": [
    "[False]*5"
   ]
  },
  {
   "cell_type": "code",
   "execution_count": null,
   "id": "b5c352e5",
   "metadata": {},
   "outputs": [],
   "source": []
  }
 ],
 "metadata": {
  "kernelspec": {
   "display_name": "Python 3",
   "language": "python",
   "name": "python3"
  },
  "language_info": {
   "codemirror_mode": {
    "name": "ipython",
    "version": 3
   },
   "file_extension": ".py",
   "mimetype": "text/x-python",
   "name": "python",
   "nbconvert_exporter": "python",
   "pygments_lexer": "ipython3",
   "version": "3.8.5"
  }
 },
 "nbformat": 4,
 "nbformat_minor": 5
}
